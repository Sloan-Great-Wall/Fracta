{
 "cells": [
  {
   "cell_type": "code",
   "execution_count": 3,
   "metadata": {},
   "outputs": [
    {
     "ename": "ModuleNotFoundError",
     "evalue": "No module named 'pillow'",
     "output_type": "error",
     "traceback": [
      "\u001b[0;31m---------------------------------------------------------------------------\u001b[0m",
      "\u001b[0;31mModuleNotFoundError\u001b[0m                       Traceback (most recent call last)",
      "Cell \u001b[0;32mIn[3], line 3\u001b[0m\n\u001b[1;32m      1\u001b[0m \u001b[39mimport\u001b[39;00m \u001b[39mos\u001b[39;00m\n\u001b[1;32m      2\u001b[0m \u001b[39mimport\u001b[39;00m \u001b[39myaml\u001b[39;00m\n\u001b[0;32m----> 3\u001b[0m \u001b[39mimport\u001b[39;00m \u001b[39mpillow\u001b[39;00m\n\u001b[1;32m      4\u001b[0m \u001b[39mfrom\u001b[39;00m \u001b[39mtinytag\u001b[39;00m \u001b[39mimport\u001b[39;00m TinyTag\n\u001b[1;32m      5\u001b[0m \u001b[39mimport\u001b[39;00m \u001b[39mpyheif\u001b[39;00m\n",
      "\u001b[0;31mModuleNotFoundError\u001b[0m: No module named 'pillow'"
     ]
    }
   ],
   "source": [
    "import os\n",
    "import yaml\n",
    "import pillow\n",
    "from tinytag import TinyTag\n",
    "import pyheif"
   ]
  },
  {
   "cell_type": "code",
   "execution_count": 4,
   "metadata": {},
   "outputs": [],
   "source": [
    "def get_image_metadata(file_path):\n",
    "    _, ext = os.path.splitext(file_path)\n",
    "    if ext.lower() in ['.heic']:\n",
    "        heif_file = pyheif.read(file_path)\n",
    "        return heif_file.metadata\n",
    "    else:\n",
    "        with Image.open(file_path) as img:\n",
    "            return img._getexif()\n",
    "\n",
    "def get_audio_metadata(file_path):\n",
    "    tag = TinyTag.get(file_path)\n",
    "    return { 'artist': tag.artist, 'album': tag.album, 'title': tag.title }\n",
    "\n",
    "def save_metadata_to_markdown(file_path, metadata):\n",
    "    with open(file_path, 'w') as f:\n",
    "        f.write('---\\n')\n",
    "        f.write('origin_metadata:\\n')\n",
    "        f.write(yaml.dump(metadata))\n",
    "        f.write('---\\n')\n",
    "\n",
    "def process_file(file_path):\n",
    "    _, ext = os.path.splitext(file_path)\n",
    "    if ext.lower() in ['.jpg', '.jpeg', '.png', '.gif', '.bmp', '.heic']:\n",
    "        metadata = get_image_metadata(file_path)\n",
    "    elif ext.lower() in ['.mp3', '.wav', '.flac', '.m4a']:\n",
    "        metadata = get_audio_metadata(file_path)\n",
    "    else:\n",
    "        print(f'Unsupported file type: {ext}')\n",
    "        return\n",
    "    if metadata:\n",
    "        save_metadata_to_markdown(file_path + '.metadata.md', metadata)\n",
    "    print(f\"Processing file: {file_path}\")\n",
    "\n",
    "def process_directory(directory_path):\n",
    "    for root, dirs, files in os.walk(directory_path):\n",
    "        for file in files:\n",
    "            file_path = os.path.join(root, file)\n",
    "            process_file(file_path)"
   ]
  },
  {
   "cell_type": "code",
   "execution_count": 4,
   "metadata": {},
   "outputs": [
    {
     "name": "stdout",
     "output_type": "stream",
     "text": [
      "Unsupported file type: .py\n",
      "Unsupported file type: \n"
     ]
    },
    {
     "ename": "NameError",
     "evalue": "name 'Image' is not defined",
     "output_type": "error",
     "traceback": [
      "\u001b[0;31m---------------------------------------------------------------------------\u001b[0m",
      "\u001b[0;31mNameError\u001b[0m                                 Traceback (most recent call last)",
      "Cell \u001b[0;32mIn[4], line 2\u001b[0m\n\u001b[1;32m      1\u001b[0m \u001b[39m# test the function\u001b[39;00m\n\u001b[0;32m----> 2\u001b[0m process_directory(\u001b[39m'\u001b[39;49m\u001b[39m./\u001b[39;49m\u001b[39m'\u001b[39;49m)\n",
      "Cell \u001b[0;32mIn[3], line 38\u001b[0m, in \u001b[0;36mprocess_directory\u001b[0;34m(directory_path)\u001b[0m\n\u001b[1;32m     36\u001b[0m \u001b[39mfor\u001b[39;00m file \u001b[39min\u001b[39;00m files:\n\u001b[1;32m     37\u001b[0m     file_path \u001b[39m=\u001b[39m os\u001b[39m.\u001b[39mpath\u001b[39m.\u001b[39mjoin(root, file)\n\u001b[0;32m---> 38\u001b[0m     process_file(file_path)\n",
      "Cell \u001b[0;32mIn[3], line 24\u001b[0m, in \u001b[0;36mprocess_file\u001b[0;34m(file_path)\u001b[0m\n\u001b[1;32m     22\u001b[0m _, ext \u001b[39m=\u001b[39m os\u001b[39m.\u001b[39mpath\u001b[39m.\u001b[39msplitext(file_path)\n\u001b[1;32m     23\u001b[0m \u001b[39mif\u001b[39;00m ext\u001b[39m.\u001b[39mlower() \u001b[39min\u001b[39;00m [\u001b[39m'\u001b[39m\u001b[39m.jpg\u001b[39m\u001b[39m'\u001b[39m, \u001b[39m'\u001b[39m\u001b[39m.jpeg\u001b[39m\u001b[39m'\u001b[39m, \u001b[39m'\u001b[39m\u001b[39m.png\u001b[39m\u001b[39m'\u001b[39m, \u001b[39m'\u001b[39m\u001b[39m.gif\u001b[39m\u001b[39m'\u001b[39m, \u001b[39m'\u001b[39m\u001b[39m.bmp\u001b[39m\u001b[39m'\u001b[39m, \u001b[39m'\u001b[39m\u001b[39m.heic\u001b[39m\u001b[39m'\u001b[39m]:\n\u001b[0;32m---> 24\u001b[0m     metadata \u001b[39m=\u001b[39m get_image_metadata(file_path)\n\u001b[1;32m     25\u001b[0m \u001b[39melif\u001b[39;00m ext\u001b[39m.\u001b[39mlower() \u001b[39min\u001b[39;00m [\u001b[39m'\u001b[39m\u001b[39m.mp3\u001b[39m\u001b[39m'\u001b[39m, \u001b[39m'\u001b[39m\u001b[39m.wav\u001b[39m\u001b[39m'\u001b[39m, \u001b[39m'\u001b[39m\u001b[39m.flac\u001b[39m\u001b[39m'\u001b[39m, \u001b[39m'\u001b[39m\u001b[39m.m4a\u001b[39m\u001b[39m'\u001b[39m]:\n\u001b[1;32m     26\u001b[0m     metadata \u001b[39m=\u001b[39m get_audio_metadata(file_path)\n",
      "Cell \u001b[0;32mIn[3], line 7\u001b[0m, in \u001b[0;36mget_image_metadata\u001b[0;34m(file_path)\u001b[0m\n\u001b[1;32m      5\u001b[0m     \u001b[39mreturn\u001b[39;00m heif_file\u001b[39m.\u001b[39mmetadata\n\u001b[1;32m      6\u001b[0m \u001b[39melse\u001b[39;00m:\n\u001b[0;32m----> 7\u001b[0m     \u001b[39mwith\u001b[39;00m Image\u001b[39m.\u001b[39mopen(file_path) \u001b[39mas\u001b[39;00m img:\n\u001b[1;32m      8\u001b[0m         \u001b[39mreturn\u001b[39;00m img\u001b[39m.\u001b[39m_getexif()\n",
      "\u001b[0;31mNameError\u001b[0m: name 'Image' is not defined"
     ]
    }
   ],
   "source": [
    "# test the function\n",
    "process_directory('./')"
   ]
  },
  {
   "cell_type": "code",
   "execution_count": null,
   "metadata": {},
   "outputs": [],
   "source": []
  }
 ],
 "metadata": {
  "kernelspec": {
   "display_name": "Python 3",
   "language": "python",
   "name": "python3"
  },
  "language_info": {
   "codemirror_mode": {
    "name": "ipython",
    "version": 3
   },
   "file_extension": ".py",
   "mimetype": "text/x-python",
   "name": "python",
   "nbconvert_exporter": "python",
   "pygments_lexer": "ipython3",
   "version": "3.11.4"
  },
  "orig_nbformat": 4
 },
 "nbformat": 4,
 "nbformat_minor": 2
}
